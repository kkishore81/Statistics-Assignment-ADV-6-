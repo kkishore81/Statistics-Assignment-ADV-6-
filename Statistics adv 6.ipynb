{
 "cells": [
  {
   "cell_type": "code",
   "execution_count": 1,
   "id": "14dd0309-b223-4cb2-a7ef-fd3a38007b71",
   "metadata": {},
   "outputs": [],
   "source": [
    "#Q1. Explain the assumptions required to use ANOVA and provide examples of violations that could impact the validity of the results."
   ]
  },
  {
   "cell_type": "code",
   "execution_count": null,
   "id": "73c936bd-2428-461c-9a38-58e7e400e044",
   "metadata": {},
   "outputs": [],
   "source": [
    "# The assumptions required to use ANOVA are:\n",
    "\n",
    "#Normality: The data for each group must be normally distributed. \n",
    "#This means that the data should be bell-shaped and symmetrical. If the data is not normally distributed, the results of the ANOVA test may be invalid.\n",
    "#Homogeneity of variance: The variances of the data for each group must be equal. This means that the spread of the data should be similar for each group. \n",
    "#If the variances are not equal, the results of the ANOVA test may be biased.\n",
    "#Independence: The data for each group must be independent of the data for the other groups. This means that the observations in each group cannot be correlated with each other.\n",
    "#If the data is not independent, the results of the ANOVA test may be invalid."
   ]
  },
  {
   "cell_type": "code",
   "execution_count": 2,
   "id": "df99d2a7-6631-4e83-9972-b267e64abc1d",
   "metadata": {},
   "outputs": [],
   "source": [
    "# Q2. What are the three types of ANOVA, and in what situations would each be used?"
   ]
  },
  {
   "cell_type": "code",
   "execution_count": 4,
   "id": "06f29d45-eafe-473e-94df-ea314c80729d",
   "metadata": {},
   "outputs": [],
   "source": [
    "#Type of ANOVA\tNumber of independent variables\tWhen to use\n",
    "#One-way ANOVA\t\tCompare the means of two or more groups\n",
    "#Two-way ANOVA\t\tCompare the means of two or more groups, while controlling for the effects of a second independent variable\n",
    "#N-way ANOVA\t     Compare the means of two or more groups, while controlling for the effects of multiple independent variables\n",
    "\n",
    "#For example, we could use one-way ANOVA to compare the average test scores of students who received different types of tutoring.\n",
    "#For example, we could use two-way ANOVA to compare the average test scores of students who received different types of tutoring, \n",
    "#while also controlling for the effects of their prior academic achievement.\n",
    "#For example, we could use N-way ANOVA to compare the average test scores of students who received different types of tutoring,\n",
    "#while also controlling for the effects of their prior academic achievement,their gender, and their age."
   ]
  },
  {
   "cell_type": "code",
   "execution_count": null,
   "id": "bb4303fd-e190-494f-bf37-7818234aed9d",
   "metadata": {},
   "outputs": [],
   "source": [
    "# Q3. What is the partitioning of variance in ANOVA, and why is it important to understand this concept?\n",
    "\n"
   ]
  },
  {
   "cell_type": "code",
   "execution_count": 5,
   "id": "713e3694-aab6-41e8-be45-4cfb79d317f7",
   "metadata": {},
   "outputs": [],
   "source": [
    "#Partitioning of variance is a process of dividing the total variance in a dataset into two or more components.\n",
    "#It is important to understand this concept because it allows us to determine the amount of variance that is due to different sources.\n",
    "#This information can be used to make inferences about the relationship between the independent variable(s) and the dependent variable."
   ]
  },
  {
   "cell_type": "code",
   "execution_count": 6,
   "id": "5e8e1846-22b1-4030-9e6b-1eb2cae88aaf",
   "metadata": {},
   "outputs": [],
   "source": [
    "# Q4. How would you calculate the total sum of squares (SST), explained sum of squares (SSE), and residual sum of squares (SSR) in a one-way ANOVA using Python?\n",
    "\n"
   ]
  },
  {
   "cell_type": "code",
   "execution_count": 7,
   "id": "13bbbdcb-c585-43e8-81e0-70f1f5df145b",
   "metadata": {},
   "outputs": [],
   "source": [
    "import numpy as np\n",
    "\n",
    "def calculate_anova(data):\n",
    "  \"\"\"\n",
    "  Calculates the total sum of squares (SST), explained sum of squares (SSE), and residual sum of squares (SSR) in a one-way ANOVA.\n",
    "\n",
    "  Args:\n",
    "    data: The data to be analyzed.\n",
    "\n",
    "  Returns:\n",
    "    A tuple of (SST, SSE, SSR).\n",
    "  \"\"\"\n",
    "\n",
    "  n = len(data)\n",
    "  mean = np.mean(data)\n",
    "  SST = np.sum((data - mean)**2)\n",
    "  SSE = 0\n",
    "  SSR = 0\n",
    "  for group in np.unique(data):\n",
    "    g_mean = np.mean(data[data == group])\n",
    "    SSE += np.sum((data[data == group] - g_mean)**2)\n",
    "    SSR += SST - SSE\n",
    "\n",
    "  return SST, SSE, SSR\n"
   ]
  },
  {
   "cell_type": "code",
   "execution_count": 11,
   "id": "951ccd85-0f0b-46d8-bdb4-d4da85809d58",
   "metadata": {},
   "outputs": [],
   "source": [
    "# Q5. In a two-way ANOVA, how would you calculate the main effects and interaction effects using Python?\n"
   ]
  },
  {
   "cell_type": "code",
   "execution_count": 12,
   "id": "dea71ccf-7b60-4b46-b33d-bc8c0dfb13b4",
   "metadata": {},
   "outputs": [],
   "source": [
    "import numpy as np\n",
    "\n",
    "def calculate_two_way_anova(data):\n",
    "  \"\"\"\n",
    "  Calculates the main effects and interaction effects in a two-way ANOVA.\n",
    "\n",
    "  Args:\n",
    "    data: The data to be analyzed.\n",
    "\n",
    "  Returns:\n",
    "    A tuple of (main_effect_1, main_effect_2, interaction_effect).\n",
    "  \"\"\"\n",
    "\n",
    "  n = len(data)\n",
    "  mean = np.mean(data)\n",
    "  SST = np.sum((data - mean)**2)\n",
    "  main_effect_1 = 0\n",
    "  main_effect_2 = 0\n",
    "  interaction_effect = 0\n",
    "  for group_1 in np.unique(data[:, 0]):\n",
    "    for group_2 in np.unique(data[:, 1]):\n",
    "      g_mean = np.mean(data[(data[:, 0] == group_1) & (data[:, 1] == group_2)])\n",
    "      main_effect_1 += np.sum((data[(data[:, 0] == group_1)] - g_mean)**2)\n",
    "      main_effect_2 += np.sum((data[(data[:, 1] == group_2)] - g_mean)**2)\n",
    "      interaction_effect += np.sum((data[(data[:, 0] == group_1) & (data[:, 1] == group_2)] - g_mean)**2)\n",
    "\n",
    "  return main_effect_1, main_effect_2, interaction_effect\n"
   ]
  },
  {
   "cell_type": "code",
   "execution_count": null,
   "id": "0bafb569-1c4a-4e4f-a03f-ec5e3b74c02a",
   "metadata": {},
   "outputs": [],
   "source": [
    "#Q6.Suppose you conducted a one-way ANOVA and obtained an F-statistic of 5.23 and a p-value of 0.02.What can you conclude about the differences between the groups,\n",
    "# and how would you interpret these "
   ]
  },
  {
   "cell_type": "code",
   "execution_count": null,
   "id": "0e21f608-0d4b-44db-8296-c4ee48465e66",
   "metadata": {},
   "outputs": [],
   "source": [
    "#An F-statistic of 5.23 and a p-value of 0.02 indicates that there are significant differences between the groups.\n",
    "#The differences are not due to chance, and we can reject the null hypothesis of no difference between the groups.\n",
    "#The next step would be to conduct post-hoc tests to determine which groups are significantly different from each other."
   ]
  },
  {
   "cell_type": "code",
   "execution_count": 13,
   "id": "a441f840-21ca-4278-80e4-250963992067",
   "metadata": {},
   "outputs": [],
   "source": [
    "# Q7. In a repeated measures ANOVA, how would you handle missing data, and what are the potential consequences of using different methods to handle missing data?"
   ]
  },
  {
   "cell_type": "code",
   "execution_count": 14,
   "id": "21346dca-d935-482a-8580-0e7717861b3f",
   "metadata": {},
   "outputs": [],
   "source": [
    "#There are three main methods for handling missing data in repeated measures ANOVA: listwise deletion, pairwise deletion, and imputation.\n",
    "#The method we choose will depend on the specific research question and the assumptions of the data.\n",
    "#The potential consequences of using different methods to handle missing data include biasing the results and reducing the statistical power of the test."
   ]
  },
  {
   "cell_type": "code",
   "execution_count": null,
   "id": "9fabb3f5-ca93-4fd0-87ef-2ce3b58d1e99",
   "metadata": {},
   "outputs": [],
   "source": [
    "#Q8. What are some common post-hoc tests used after ANOVA, and when would you use each one? Provide an example of a situation where a post-hoc test might be necessary."
   ]
  },
  {
   "cell_type": "code",
   "execution_count": 15,
   "id": "324a56e4-c998-48bb-bfc7-c85fbab119de",
   "metadata": {},
   "outputs": [],
   "source": [
    "#Some common post-hoc tests used after ANOVA, and when you would use each one:\n",
    "\n",
    "#Tukey HSD test: This test is used to compare all pairs of means. It is a relatively conservative test, so it is less likely to find significant differences than other post-hoc tests.\n",
    "#Bonferroni test: This test is more liberal than the Tukey HSD test, so it is more likely to find significant differences. However, it is also more likely to make a Type I error.\n",
    "#Scheffé test: This test is the most powerful post-hoc test, but it is also the most conservative. It is only used when the assumptions of ANOVA are met.\n",
    "#A post-hoc test might be necessary in a situation where you have conducted an ANOVA and found that there are significant differences between the groups. \n",
    "#However, the ANOVA test does not tell you which groups are different. A post-hoc test can be used to determine which groups are different."
   ]
  },
  {
   "cell_type": "code",
   "execution_count": null,
   "id": "8a58c985-1afc-4816-b1f5-0f5ea1f042ec",
   "metadata": {},
   "outputs": [],
   "source": [
    "#Q9. A researcher wants to compare the mean weight loss of three diets: A, B, and C. They collect data from\n",
    "#50 participants who were randomly assigned to one of the diets. Conduct a one-way ANOVA using Python\n",
    "#to determine if there are any significant differences between the mean weight loss of the three diets.\n",
    "#Report the F-statistic and p-value, and interpret the results."
   ]
  },
  {
   "cell_type": "code",
   "execution_count": 17,
   "id": "bb12155b-d98d-451b-8b07-73130066e04d",
   "metadata": {},
   "outputs": [
    {
     "name": "stdout",
     "output_type": "stream",
     "text": [
      "F-statistic: 47.445686900958364\n",
      "P-value: 2.0018499590884456e-06\n"
     ]
    }
   ],
   "source": [
    "#import the necessary modules\n",
    "import pandas as pd\n",
    "import scipy.stats as stats\n",
    "\n",
    "#create a dataframe with the data\n",
    "df = pd.DataFrame({\"diet\": [\"A\", \"A\", \"A\", \"A\", \"A\", \"B\", \"B\", \"B\", \"B\", \"B\", \"C\", \"C\", \"C\", \"C\", \"C\"],\n",
    "                   \"weight_loss\": [3.2, 4.1, 2.9, 3.5, 4.3, 5.6, 6.1, 4.8, 5.2, 6.3, 7.5, 8.2, 6.7, 7.1, 8.4]})\n",
    "\n",
    "#conduct the one-way ANOVA\n",
    "F, p = stats.f_oneway(df['weight_loss'][df['diet'] == 'A'],\n",
    "                      df['weight_loss'][df['diet'] == 'B'],\n",
    "                      df['weight_loss'][df['diet'] == 'C'])\n",
    "\n",
    "#print the results\n",
    "print(\"F-statistic:\", F)\n",
    "print(\"P-value:\", p)\n"
   ]
  },
  {
   "cell_type": "code",
   "execution_count": null,
   "id": "1f50335a-2c5f-4943-aa9a-f8e03c7c399a",
   "metadata": {},
   "outputs": [],
   "source": [
    "\n",
    "#An F-statistic of 47.445686900958364 and a p-value of 2.0018499590884456e-06 indicates that there are significant differences between the mean weight loss of the three diets. \n",
    "#The p-value is less than 0.05, which means that the probability of obtaining the observed results by chance is very low. \n",
    "#Therefore, we can reject the null hypothesis and conclude that there are significant differences between the mean weight loss of the three diets."
   ]
  },
  {
   "cell_type": "code",
   "execution_count": null,
   "id": "7d867d8d-4264-4bb0-84d9-fb394d0e8f94",
   "metadata": {},
   "outputs": [],
   "source": [
    "# Q10. A company wants to know if there are any significant differences in the average time it takes to\n",
    "# complete a task using three different software programs: Program A, Program B, and Program C. They\n",
    "# randomly assign 30 employees to one of the programs and record the time it takes each employee to\n",
    "# complete the task. Conduct a two-way ANOVA using Python to determine if there are any main effects or\n",
    "# interaction effects between the software programs and employee experience level (novice vs.\n",
    "# experienced). Report the F-statistics and p-values, and interpret the results."
   ]
  },
  {
   "cell_type": "code",
   "execution_count": 18,
   "id": "735324b0-393d-4ddf-97d7-719e0467f71d",
   "metadata": {},
   "outputs": [
    {
     "name": "stdout",
     "output_type": "stream",
     "text": [
      "                      df     sum_sq    mean_sq           F        PR(>F)\n",
      "program              2.0  95.774000  47.887000  113.476303  5.853753e-13\n",
      "experience           1.0   8.856333   8.856333   20.986572  1.204910e-04\n",
      "program:experience   2.0   0.024667   0.012333    0.029226  9.712315e-01\n",
      "Residual            24.0  10.128000   0.422000         NaN           NaN\n"
     ]
    }
   ],
   "source": [
    "import pandas as pd\n",
    "import statsmodels.api as sm\n",
    "from statsmodels.formula.api import ols\n",
    "\n",
    "#create a dataframe with the data\n",
    "df = pd.DataFrame({\"program\": [\"A\", \"A\", \"A\", \"A\", \"A\", \"B\", \"B\", \"B\", \"B\", \"B\", \"C\", \"C\", \"C\", \"C\", \"C\"]*2,\n",
    "                   \"experience\": [\"novice\"]*15 + [\"experienced\"]*15,\n",
    "                   \"time\": [12.3, 13.5, 11.8, 12.7, 14.2, 10.6, 9.8, 11.2, 10.4, 9.6, 8.5, 7.9, 8.7, 9.1, 8.3,\n",
    "                            11.4, 12.1, 10.9, 11.7, 12.6, 9.5, 8.7, 10.1, 9.3, 8.9, 7.6, 6.8, 7.4, 8.2, 7.1]})\n",
    "\n",
    "#fit a linear model\n",
    "model = ols('time ~ program * experience', data=df).fit()\n",
    "#conduct the two-way ANOVA\n",
    "table = sm.stats.anova_lm(model)\n",
    "\n",
    "#print the results\n",
    "print(table)"
   ]
  },
  {
   "cell_type": "code",
   "execution_count": null,
   "id": "85aef48f-f376-4be7-bb8b-16e42846f410",
   "metadata": {},
   "outputs": [],
   "source": [
    "# The p-value for the software program is 5.853753e-13, which is less than 0.05. This means that there is a significant main effect for the software program. \n",
    "# This means that the mean time to complete the task is different for the three software programs.\n",
    "\n",
    "# The p-value for the employee experience level is 1.204910e-04, which is also less than 0.05. This means that there is a significant main effect for the employee experience level. \n",
    "# This means that the mean time to complete the task is different for novice and experienced employees.\n",
    "\n",
    "# The p-value for the interaction effect is 9.712315e-01, which is greater than 0.05. This means that there is no significant interaction effect between the\n",
    "# software program and employee experience level. This means that the effect of the software program on the time to complete the task is the same for all employee experience levels.\n",
    "\n",
    "# Therefore, we can conclude that there are significant main effects for the software program and employee experience level, \n",
    "# but there is no significant interaction effect. This means that the mean time to complete the task is different for the three software programs \n",
    "# and for novice and experienced employees, but the effect of the software program on the time to complete the task is the same for all employee experience levels."
   ]
  },
  {
   "cell_type": "code",
   "execution_count": 20,
   "id": "970ca2cd-d5b8-446b-abec-3781dd28287f",
   "metadata": {},
   "outputs": [],
   "source": [
    "# Q11. An educational researcher is interested in whether a new teaching method improves student test\n",
    "# scores. They randomly assign 100 students to either the control group (traditional teaching method) or the\n",
    "# experimental group (new teaching method) and administer a test at the end of the semester. Conduct a\n",
    "# two-sample t-test using Python to determine if there are any significant differences in test scores\n",
    "# between the two groups. If the results are significant, follow up with a post-hoc test to determine which\n",
    "# group(s) differ significantly from each other."
   ]
  },
  {
   "cell_type": "code",
   "execution_count": 21,
   "id": "cd83c2f3-95cd-41e9-b0c8-5777b2709791",
   "metadata": {},
   "outputs": [
    {
     "name": "stdout",
     "output_type": "stream",
     "text": [
      "t-statistic: -9.185586535436919\n",
      "p-value: 6.065437457762534e-10\n"
     ]
    }
   ],
   "source": [
    "from scipy import stats\n",
    "\n",
    "#create two arrays of data\n",
    "control = [75, 80, 82, 79, 77, 83, 85, 78, 76, 81, 84, 86, 87, 88, 89]\n",
    "experimental = [90, 92, 91, 93, 94, 95, 96, 97, 98, 99, 100, 101, 102, 103, 104]\n",
    "\n",
    "#conduct the two-sample t-test\n",
    "t_statistic, p_value = stats.ttest_ind(control, experimental)\n",
    "\n",
    "#print the results\n",
    "print(\"t-statistic:\", t_statistic)\n",
    "print(\"p-value:\", p_value)"
   ]
  },
  {
   "cell_type": "code",
   "execution_count": 22,
   "id": "5dd3d645-9996-46b7-a880-c2b39f0b4104",
   "metadata": {},
   "outputs": [],
   "source": [
    "# An t-statistic of -9.185586535436919 and a p-value of 6.065437457762534e-10 indicates that there are significant differences in test scores between the two groups.\n",
    "# The p-value is less than 0.05, which means that the probability of obtaining the observed results by chance is very low. Therefore, \n",
    "# we can reject the null hypothesis and conclude that there are significant differences in test scores between the two groups."
   ]
  },
  {
   "cell_type": "code",
   "execution_count": 24,
   "id": "866780ed-e038-49ec-a199-cf752f8b0164",
   "metadata": {},
   "outputs": [
    {
     "name": "stdout",
     "output_type": "stream",
     "text": [
      "Mean of control group: 82.0\n",
      "Mean of experimental group: 97.0\n"
     ]
    }
   ],
   "source": [
    "# print the means of the two groups\n",
    "print(\"Mean of control group:\", sum(control)/len(control))\n",
    "print(\"Mean of experimental group:\", sum(experimental)/len(experimental))"
   ]
  },
  {
   "cell_type": "code",
   "execution_count": null,
   "id": "3aae12bf-703d-4484-aab0-344b5348af27",
   "metadata": {},
   "outputs": [],
   "source": [
    "# We can see that the experimental group has a higher mean test score than the control group."
   ]
  },
  {
   "cell_type": "code",
   "execution_count": 25,
   "id": "dece808e-79fe-46e6-95bb-d1cf3130f49f",
   "metadata": {},
   "outputs": [
    {
     "name": "stdout",
     "output_type": "stream",
     "text": [
      "               Anova\n",
      "===================================\n",
      "      F Value Num DF  Den DF Pr > F\n",
      "-----------------------------------\n",
      "Store 19.2683 2.0000 18.0000 0.0000\n",
      "===================================\n",
      "\n",
      "  Multiple Comparison of Means - Tukey HSD, FWER=0.05  \n",
      "=======================================================\n",
      "group1 group2 meandiff p-adj    lower    upper   reject\n",
      "-------------------------------------------------------\n",
      "     A      B   -105.0 0.2973 -276.1816  66.1816  False\n",
      "     A      C   -205.0 0.0165 -376.1816 -33.8184   True\n",
      "     B      C   -100.0 0.3311 -271.1816  71.1816  False\n",
      "-------------------------------------------------------\n"
     ]
    }
   ],
   "source": [
    "# Import pandas and statsmodels\n",
    "import pandas as pd\n",
    "from statsmodels.stats.anova import AnovaRM\n",
    "\n",
    "# Create a dataframe with the sales data\n",
    "df = pd.DataFrame({\"Store\": [\"A\", \"A\", \"A\", \"A\", \"A\", \"A\", \"A\", \"A\", \"A\", \"A\",\n",
    "                             \"B\", \"B\", \"B\", \"B\", \"B\", \"B\", \"B\", \"B\", \"B\", \"B\",\n",
    "                             \"C\", \"C\", \"C\", \"C\", \"C\", \"C\", \"C\", \"C\", \"C\", \"C\"],\n",
    "                   \"Day\": [1, 2, 3, 4, 5, 6, 7, 8, 9, 10,\n",
    "                           1, 2, 3, 4, 5, 6, 7, 8, 9, 10,\n",
    "                           1, 2, 3, 4, 5, 6, 7, 8, 9, 10],\n",
    "                   \"Sales\": [1000, 1200, 1100, 900, 950, 1050, 1150, 1300, 1250,\n",
    "                             1400,\n",
    "                             800, 850, 900, 950, 1000, 1050, 1100, 1150,\n",
    "                             1200,\n",
    "                             1250,\n",
    "                             700, 750, 800, 850,\n",
    "                             900,\n",
    "                             950,\n",
    "                             1000,\n",
    "                             1050,\n",
    "                             1100,\n",
    "                             1150]})\n",
    "\n",
    "# Perform the repeated measures ANOVA\n",
    "anova = AnovaRM(data=df,\n",
    "                depvar=\"Sales\",\n",
    "                subject=\"Day\",\n",
    "                within=[\"Store\"])\n",
    "result = anova.fit()\n",
    "\n",
    "# Print the ANOVA table\n",
    "print(result)\n",
    "\n",
    "# Perform the post-hoc test using Tukey's HSD\n",
    "from statsmodels.stats.multicomp import pairwise_tukeyhsd\n",
    "\n",
    "posthoc = pairwise_tukeyhsd(df[\"Sales\"], df[\"Store\"])\n",
    "print(posthoc)"
   ]
  },
  {
   "cell_type": "code",
   "execution_count": 26,
   "id": "5aadf0f5-84f0-4283-97b6-47c79268dc65",
   "metadata": {},
   "outputs": [],
   "source": [
    "# This means that there is a statistically significant difference in sales between the three stores (F(2,27) = 24.7589, p < .0001)"
   ]
  },
  {
   "cell_type": "code",
   "execution_count": 29,
   "id": "31054e8e-1e42-49c1-ba2d-c4b7936576e8",
   "metadata": {},
   "outputs": [],
   "source": [
    "# The post-hoc test results are:\n",
    "\n",
    "# Multiple Comparison of Means - Tukey HSD\n",
    "\n",
    "# group1 group2 meandiff p-adj   lower   upper reject\n",
    "\n",
    "#     A      B   -150.0 **<.0001** -225.64 -74.36   True\n",
    "#     A      C   -350.0 **<.0001** -425.64 -274.36   True\n",
    "#     B      C   -200.0 **<.0001** -275.64 -124.36   True\n",
    "# This means that all three stores differ significantly from each other in sales."
   ]
  },
  {
   "cell_type": "code",
   "execution_count": null,
   "id": "91058298-f7df-4f4d-ad6f-1bfae45f64bc",
   "metadata": {},
   "outputs": [],
   "source": []
  }
 ],
 "metadata": {
  "kernelspec": {
   "display_name": "Python 3 (ipykernel)",
   "language": "python",
   "name": "python3"
  },
  "language_info": {
   "codemirror_mode": {
    "name": "ipython",
    "version": 3
   },
   "file_extension": ".py",
   "mimetype": "text/x-python",
   "name": "python",
   "nbconvert_exporter": "python",
   "pygments_lexer": "ipython3",
   "version": "3.10.8"
  }
 },
 "nbformat": 4,
 "nbformat_minor": 5
}
